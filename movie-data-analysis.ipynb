{
 "cells": [
  {
   "cell_type": "code",
   "execution_count": 107,
   "metadata": {},
   "outputs": [],
   "source": [
    "#Importing packages, setting style for charts\n",
    "\n",
    "import sqlite3\n",
    "import pandas as pd\n",
    "import numpy as np\n",
    "import matplotlib.pyplot as plt\n",
    "import statsmodels.api as sm\n",
    "import seaborn as sns\n",
    "from scipy import stats\n",
    "from statsmodels.stats.multicomp import pairwise_tukeyhsd as pt\n",
    "import warnings\n",
    "\n",
    "warnings.filterwarnings('ignore')\n",
    "sns.set_style('darkgrid')"
   ]
  },
  {
   "cell_type": "code",
   "execution_count": 108,
   "metadata": {},
   "outputs": [],
   "source": [
    "# Reading in the dataframes\n",
    "\n",
    "movie_info    = pd.read_csv('zippedData/rt.movie_info.tsv.gz', sep='\\t') # mi\n",
    "tmdb          = pd.read_csv('zippedData/tmdb.movies.csv.gz') #tmdb\n",
    "movie_budgets = pd.read_csv('zippedData/tn.movie_budgets.csv.gz') # mb\n",
    "movie_gross   = pd.read_csv(\"zippedData/bom.movie_gross.csv.gz\") # mg\n",
    "reviews       = pd.read_csv(\"zippedData/rt.reviews.tsv.gz\", error_bad_lines=False, sep='\\t', encoding= 'unicode_escape')"
   ]
  },
  {
   "cell_type": "code",
   "execution_count": 109,
   "metadata": {},
   "outputs": [],
   "source": [
    "# Reading in the im.db database\n",
    "\n",
    "# Filtering the database based directors who are still alive\n",
    "conn = sqlite3.connect('zippedData/im.db/im.db')\n",
    "\n",
    "q = \"\"\"\n",
    "\n",
    "WITH living_directors AS(\n",
    "SELECT primary_title, start_year, genres, primary_name, death_year, primary_profession \n",
    "FROM movie_basics mb\n",
    "INNER JOIN directors d\n",
    "    ON mb.movie_id = d.movie_id\n",
    "INNER JOIN persons p\n",
    "    ON d.person_id = p.person_id\n",
    "WHERE primary_profession LIKE '%director%'\n",
    "GROUP BY mb.movie_id\n",
    "HAVING p.death_year is NULL\n",
    ")\n",
    "\n",
    "SELECT * FROM living_directors\n",
    "\n",
    "\"\"\"\n",
    "\n",
    "alive_directors = pd.read_sql(q, conn)"
   ]
  },
  {
   "attachments": {},
   "cell_type": "markdown",
   "metadata": {},
   "source": [
    "# 1. Cleaning Data"
   ]
  },
  {
   "attachments": {},
   "cell_type": "markdown",
   "metadata": {},
   "source": [
    "1a. The Movie Database (tmdb)"
   ]
  },
  {
   "cell_type": "code",
   "execution_count": 110,
   "metadata": {},
   "outputs": [],
   "source": [
    "# Adding a column that concantenates the title and release date of the movie for dataframe merging with movie_budgets dataframe\n",
    "tmdb_title = tmdb['original_title']\n",
    "tmdb_date = tmdb['release_date']\n",
    "tmdb['title_and_year'] = tmdb_title + ' ' + tmdb_date.apply(lambda x: x[:4])\n",
    "\n",
    "# Removing duplicates from tmdb\n",
    "tmdb = tmdb.drop_duplicates(subset='id', keep='first')\n",
    "tmdb = tmdb.drop_duplicates(subset='title_and_year', keep='first')"
   ]
  },
  {
   "attachments": {},
   "cell_type": "markdown",
   "metadata": {},
   "source": [
    "1b. The Numbers Movie Budgets (movie_budgets)"
   ]
  },
  {
   "cell_type": "code",
   "execution_count": 111,
   "metadata": {},
   "outputs": [],
   "source": [
    "# Adding a matching column in movie_budgets to prepare for merge with tmdb dataframe\n",
    "movie_budgets_title = movie_budgets['movie']\n",
    "movie_budgets_date = movie_budgets['release_date']\n",
    "movie_budgets['title_and_year'] = movie_budgets_title + ' ' + movie_budgets_date.apply(lambda x: x[-4:])\n",
    "\n",
    "# Creating numeric columns to represent revenue and budget\n",
    "movie_budgets['revenue'] = movie_budgets['worldwide_gross'].replace('[\\$,]','', regex=True).astype(float)\n",
    "movie_budgets['budget'] = movie_budgets['production_budget'].replace('[\\$,]','', regex=True).astype(float)\n",
    "\n",
    "# Removing duplicates\n",
    "movie_budgets = movie_budgets.drop_duplicates(subset='title_and_year', keep='first')"
   ]
  },
  {
   "attachments": {},
   "cell_type": "markdown",
   "metadata": {},
   "source": [
    "1c. IMDB (living_directors_df)"
   ]
  },
  {
   "cell_type": "code",
   "execution_count": 112,
   "metadata": {},
   "outputs": [],
   "source": [
    "# Converting the sql database into a dataframe\n",
    "alive_directors = pd.DataFrame(alive_directors)\n",
    "\n",
    "# Adding a matching column in alive_directors dataframe to prepare for merge with tmdb and movie_budgets dataframes\n",
    "alive_directors_title = alive_directors['primary_title']\n",
    "alive_directors_year = alive_directors['start_year']\n",
    "alive_directors['title_and_year'] = alive_directors_title + ' ' + alive_directors_year.apply(lambda x: str(x))"
   ]
  },
  {
   "attachments": {},
   "cell_type": "markdown",
   "metadata": {},
   "source": [
    "1d. Movie Gross (movie_gross)"
   ]
  },
  {
   "cell_type": "code",
   "execution_count": 113,
   "metadata": {},
   "outputs": [],
   "source": [
    "# Adding a matching column in alive_directors dataframe to prepare for merge with tmdb and movie_budgets dataframes\n",
    "movie_gross_title = movie_gross['title']\n",
    "movie_gross_year = movie_gross['year']\n",
    "movie_gross['title_and_year'] = movie_gross_title + ' ' + movie_gross_year.astype(str)"
   ]
  },
  {
   "attachments": {},
   "cell_type": "markdown",
   "metadata": {},
   "source": [
    "1e. Merging all the dataframes into the final dataframe called movies"
   ]
  },
  {
   "cell_type": "code",
   "execution_count": 130,
   "metadata": {},
   "outputs": [
    {
     "data": {
      "text/html": [
       "<div>\n",
       "<style scoped>\n",
       "    .dataframe tbody tr th:only-of-type {\n",
       "        vertical-align: middle;\n",
       "    }\n",
       "\n",
       "    .dataframe tbody tr th {\n",
       "        vertical-align: top;\n",
       "    }\n",
       "\n",
       "    .dataframe thead th {\n",
       "        text-align: right;\n",
       "    }\n",
       "</style>\n",
       "<table border=\"1\" class=\"dataframe\">\n",
       "  <thead>\n",
       "    <tr style=\"text-align: right;\">\n",
       "      <th></th>\n",
       "      <th>worldwide_gross</th>\n",
       "      <th>title_and_year</th>\n",
       "      <th>revenue</th>\n",
       "      <th>budget</th>\n",
       "      <th>genre_ids</th>\n",
       "      <th>original_language</th>\n",
       "      <th>popularity</th>\n",
       "      <th>release_date_y</th>\n",
       "      <th>vote_average</th>\n",
       "      <th>vote_count</th>\n",
       "      <th>genres</th>\n",
       "      <th>primary_name</th>\n",
       "      <th>death_year</th>\n",
       "      <th>primary_profession</th>\n",
       "      <th>studio</th>\n",
       "      <th>foreign_gross</th>\n",
       "    </tr>\n",
       "  </thead>\n",
       "  <tbody>\n",
       "    <tr>\n",
       "      <th>0</th>\n",
       "      <td>$1,045,663,875</td>\n",
       "      <td>Pirates of the Caribbean: On Stranger Tides 2011</td>\n",
       "      <td>1.045664e+09</td>\n",
       "      <td>410600000.0</td>\n",
       "      <td>[12, 28, 14]</td>\n",
       "      <td>en</td>\n",
       "      <td>30.579</td>\n",
       "      <td>2011-05-20</td>\n",
       "      <td>6.4</td>\n",
       "      <td>8571</td>\n",
       "      <td>Action,Adventure,Fantasy</td>\n",
       "      <td>Rob Marshall</td>\n",
       "      <td>None</td>\n",
       "      <td>director,miscellaneous,producer</td>\n",
       "      <td>BV</td>\n",
       "      <td>804600000</td>\n",
       "    </tr>\n",
       "    <tr>\n",
       "      <th>1</th>\n",
       "      <td>$1,403,013,963</td>\n",
       "      <td>Avengers: Age of Ultron 2015</td>\n",
       "      <td>1.403014e+09</td>\n",
       "      <td>330600000.0</td>\n",
       "      <td>[28, 12, 878]</td>\n",
       "      <td>en</td>\n",
       "      <td>44.383</td>\n",
       "      <td>2015-05-01</td>\n",
       "      <td>7.3</td>\n",
       "      <td>13457</td>\n",
       "      <td>Action,Adventure,Sci-Fi</td>\n",
       "      <td>Joss Whedon</td>\n",
       "      <td>None</td>\n",
       "      <td>writer,producer,director</td>\n",
       "      <td>BV</td>\n",
       "      <td>946400000</td>\n",
       "    </tr>\n",
       "    <tr>\n",
       "      <th>2</th>\n",
       "      <td>$2,048,134,200</td>\n",
       "      <td>Avengers: Infinity War 2018</td>\n",
       "      <td>2.048134e+09</td>\n",
       "      <td>300000000.0</td>\n",
       "      <td>[12, 28, 14]</td>\n",
       "      <td>en</td>\n",
       "      <td>80.773</td>\n",
       "      <td>2018-04-27</td>\n",
       "      <td>8.3</td>\n",
       "      <td>13948</td>\n",
       "      <td>Action,Adventure,Sci-Fi</td>\n",
       "      <td>Joe Russo</td>\n",
       "      <td>None</td>\n",
       "      <td>producer,director,writer</td>\n",
       "      <td>BV</td>\n",
       "      <td>1,369.5</td>\n",
       "    </tr>\n",
       "    <tr>\n",
       "      <th>3</th>\n",
       "      <td>$655,945,209</td>\n",
       "      <td>Justice League 2017</td>\n",
       "      <td>6.559452e+08</td>\n",
       "      <td>300000000.0</td>\n",
       "      <td>[28, 12, 14, 878]</td>\n",
       "      <td>en</td>\n",
       "      <td>34.953</td>\n",
       "      <td>2017-11-17</td>\n",
       "      <td>6.2</td>\n",
       "      <td>7510</td>\n",
       "      <td>Action,Adventure,Fantasy</td>\n",
       "      <td>Zack Snyder</td>\n",
       "      <td>None</td>\n",
       "      <td>producer,director,writer</td>\n",
       "      <td>WB</td>\n",
       "      <td>428900000</td>\n",
       "    </tr>\n",
       "    <tr>\n",
       "      <th>4</th>\n",
       "      <td>$879,620,923</td>\n",
       "      <td>Spectre 2015</td>\n",
       "      <td>8.796209e+08</td>\n",
       "      <td>300000000.0</td>\n",
       "      <td>[28, 12, 80]</td>\n",
       "      <td>en</td>\n",
       "      <td>30.318</td>\n",
       "      <td>2015-11-06</td>\n",
       "      <td>6.4</td>\n",
       "      <td>6719</td>\n",
       "      <td>Action,Adventure,Thriller</td>\n",
       "      <td>Sam Mendes</td>\n",
       "      <td>None</td>\n",
       "      <td>producer,director,miscellaneous</td>\n",
       "      <td>Sony</td>\n",
       "      <td>680600000</td>\n",
       "    </tr>\n",
       "    <tr>\n",
       "      <th>...</th>\n",
       "      <td>...</td>\n",
       "      <td>...</td>\n",
       "      <td>...</td>\n",
       "      <td>...</td>\n",
       "      <td>...</td>\n",
       "      <td>...</td>\n",
       "      <td>...</td>\n",
       "      <td>...</td>\n",
       "      <td>...</td>\n",
       "      <td>...</td>\n",
       "      <td>...</td>\n",
       "      <td>...</td>\n",
       "      <td>...</td>\n",
       "      <td>...</td>\n",
       "      <td>...</td>\n",
       "      <td>...</td>\n",
       "    </tr>\n",
       "    <tr>\n",
       "      <th>931</th>\n",
       "      <td>$3,728,400</td>\n",
       "      <td>Like Crazy 2011</td>\n",
       "      <td>3.728400e+06</td>\n",
       "      <td>250000.0</td>\n",
       "      <td>[18, 10749]</td>\n",
       "      <td>en</td>\n",
       "      <td>10.091</td>\n",
       "      <td>2011-10-28</td>\n",
       "      <td>6.5</td>\n",
       "      <td>638</td>\n",
       "      <td>Drama,Romance</td>\n",
       "      <td>Drake Doremus</td>\n",
       "      <td>None</td>\n",
       "      <td>director,writer,producer</td>\n",
       "      <td>ParV</td>\n",
       "      <td>336000</td>\n",
       "    </tr>\n",
       "    <tr>\n",
       "      <th>932</th>\n",
       "      <td>$62,375</td>\n",
       "      <td>The Canyons 2013</td>\n",
       "      <td>6.237500e+04</td>\n",
       "      <td>250000.0</td>\n",
       "      <td>[53, 18]</td>\n",
       "      <td>en</td>\n",
       "      <td>6.937</td>\n",
       "      <td>2013-07-29</td>\n",
       "      <td>4.3</td>\n",
       "      <td>134</td>\n",
       "      <td>Drama,Thriller</td>\n",
       "      <td>Paul Schrader</td>\n",
       "      <td>None</td>\n",
       "      <td>writer,director,soundtrack</td>\n",
       "      <td>IFC</td>\n",
       "      <td>NaN</td>\n",
       "    </tr>\n",
       "    <tr>\n",
       "      <th>933</th>\n",
       "      <td>$2,102,779</td>\n",
       "      <td>Another Earth 2011</td>\n",
       "      <td>2.102779e+06</td>\n",
       "      <td>175000.0</td>\n",
       "      <td>[18, 878]</td>\n",
       "      <td>en</td>\n",
       "      <td>10.030</td>\n",
       "      <td>2011-07-22</td>\n",
       "      <td>6.7</td>\n",
       "      <td>853</td>\n",
       "      <td>Drama,Romance,Sci-Fi</td>\n",
       "      <td>Mike Cahill</td>\n",
       "      <td>None</td>\n",
       "      <td>visual_effects,editor,director</td>\n",
       "      <td>FoxS</td>\n",
       "      <td>456000</td>\n",
       "    </tr>\n",
       "    <tr>\n",
       "      <th>934</th>\n",
       "      <td>$41,656,474</td>\n",
       "      <td>The Gallows 2015</td>\n",
       "      <td>4.165647e+07</td>\n",
       "      <td>100000.0</td>\n",
       "      <td>[27, 53]</td>\n",
       "      <td>en</td>\n",
       "      <td>9.166</td>\n",
       "      <td>2015-07-10</td>\n",
       "      <td>4.8</td>\n",
       "      <td>591</td>\n",
       "      <td>Horror,Mystery,Thriller</td>\n",
       "      <td>Chris Lofing</td>\n",
       "      <td>None</td>\n",
       "      <td>producer,director,writer</td>\n",
       "      <td>WB (NL)</td>\n",
       "      <td>20200000</td>\n",
       "    </tr>\n",
       "    <tr>\n",
       "      <th>935</th>\n",
       "      <td>$2,769,782</td>\n",
       "      <td>A Ghost Story 2017</td>\n",
       "      <td>2.769782e+06</td>\n",
       "      <td>100000.0</td>\n",
       "      <td>[18, 14, 10749]</td>\n",
       "      <td>en</td>\n",
       "      <td>11.886</td>\n",
       "      <td>2017-07-07</td>\n",
       "      <td>7.0</td>\n",
       "      <td>906</td>\n",
       "      <td>Drama,Fantasy,Romance</td>\n",
       "      <td>David Lowery</td>\n",
       "      <td>None</td>\n",
       "      <td>editor,producer,director</td>\n",
       "      <td>A24</td>\n",
       "      <td>NaN</td>\n",
       "    </tr>\n",
       "  </tbody>\n",
       "</table>\n",
       "<p>936 rows × 16 columns</p>\n",
       "</div>"
      ],
      "text/plain": [
       "    worldwide_gross                                    title_and_year  \\\n",
       "0    $1,045,663,875  Pirates of the Caribbean: On Stranger Tides 2011   \n",
       "1    $1,403,013,963                      Avengers: Age of Ultron 2015   \n",
       "2    $2,048,134,200                       Avengers: Infinity War 2018   \n",
       "3      $655,945,209                               Justice League 2017   \n",
       "4      $879,620,923                                      Spectre 2015   \n",
       "..              ...                                               ...   \n",
       "931      $3,728,400                                   Like Crazy 2011   \n",
       "932         $62,375                                  The Canyons 2013   \n",
       "933      $2,102,779                                Another Earth 2011   \n",
       "934     $41,656,474                                  The Gallows 2015   \n",
       "935      $2,769,782                                A Ghost Story 2017   \n",
       "\n",
       "          revenue       budget          genre_ids original_language  \\\n",
       "0    1.045664e+09  410600000.0       [12, 28, 14]                en   \n",
       "1    1.403014e+09  330600000.0      [28, 12, 878]                en   \n",
       "2    2.048134e+09  300000000.0       [12, 28, 14]                en   \n",
       "3    6.559452e+08  300000000.0  [28, 12, 14, 878]                en   \n",
       "4    8.796209e+08  300000000.0       [28, 12, 80]                en   \n",
       "..            ...          ...                ...               ...   \n",
       "931  3.728400e+06     250000.0        [18, 10749]                en   \n",
       "932  6.237500e+04     250000.0           [53, 18]                en   \n",
       "933  2.102779e+06     175000.0          [18, 878]                en   \n",
       "934  4.165647e+07     100000.0           [27, 53]                en   \n",
       "935  2.769782e+06     100000.0    [18, 14, 10749]                en   \n",
       "\n",
       "     popularity release_date_y  vote_average  vote_count  \\\n",
       "0        30.579     2011-05-20           6.4        8571   \n",
       "1        44.383     2015-05-01           7.3       13457   \n",
       "2        80.773     2018-04-27           8.3       13948   \n",
       "3        34.953     2017-11-17           6.2        7510   \n",
       "4        30.318     2015-11-06           6.4        6719   \n",
       "..          ...            ...           ...         ...   \n",
       "931      10.091     2011-10-28           6.5         638   \n",
       "932       6.937     2013-07-29           4.3         134   \n",
       "933      10.030     2011-07-22           6.7         853   \n",
       "934       9.166     2015-07-10           4.8         591   \n",
       "935      11.886     2017-07-07           7.0         906   \n",
       "\n",
       "                        genres   primary_name death_year  \\\n",
       "0     Action,Adventure,Fantasy   Rob Marshall       None   \n",
       "1      Action,Adventure,Sci-Fi    Joss Whedon       None   \n",
       "2      Action,Adventure,Sci-Fi      Joe Russo       None   \n",
       "3     Action,Adventure,Fantasy    Zack Snyder       None   \n",
       "4    Action,Adventure,Thriller     Sam Mendes       None   \n",
       "..                         ...            ...        ...   \n",
       "931              Drama,Romance  Drake Doremus       None   \n",
       "932             Drama,Thriller  Paul Schrader       None   \n",
       "933       Drama,Romance,Sci-Fi    Mike Cahill       None   \n",
       "934    Horror,Mystery,Thriller   Chris Lofing       None   \n",
       "935      Drama,Fantasy,Romance   David Lowery       None   \n",
       "\n",
       "                  primary_profession   studio foreign_gross  \n",
       "0    director,miscellaneous,producer       BV     804600000  \n",
       "1           writer,producer,director       BV     946400000  \n",
       "2           producer,director,writer       BV       1,369.5  \n",
       "3           producer,director,writer       WB     428900000  \n",
       "4    producer,director,miscellaneous     Sony     680600000  \n",
       "..                               ...      ...           ...  \n",
       "931         director,writer,producer     ParV        336000  \n",
       "932       writer,director,soundtrack      IFC           NaN  \n",
       "933   visual_effects,editor,director     FoxS        456000  \n",
       "934         producer,director,writer  WB (NL)      20200000  \n",
       "935         editor,producer,director      A24           NaN  \n",
       "\n",
       "[936 rows x 16 columns]"
      ]
     },
     "execution_count": 130,
     "metadata": {},
     "output_type": "execute_result"
    }
   ],
   "source": [
    "# Merging the tmdb, movie_budgets, and alive_directors dataframes\n",
    "movies = pd.merge(movie_budgets, tmdb, how='inner', on='title_and_year')\n",
    "movies = pd.merge(movies, alive_directors, how='inner', on='title_and_year')\n",
    "movies = pd.merge(movies, movie_gross, on='title_and_year')\n",
    "\n",
    "\"\"\"\n",
    "Filtering to rows that have greater than $0 in revenue. \n",
    "Research showed that many of these movies were released directly to streaming services, not theatres\n",
    "\"\"\"\n",
    "movies = movies.loc[movies['revenue'] != 0]\n",
    "\n",
    "# Reset index due to dropping rows\n",
    "movies.reset_index(inplace=True)\n",
    "\n",
    "# Remove unnecessary columns\n",
    "columns_to_drop = ['index',\n",
    "                    'id_x',\n",
    "                    'id_y',\n",
    "                    'Unnamed: 0',\n",
    "                    'primary_title',\n",
    "                    'title_y', \n",
    "                    'original_title',\n",
    "                    'year', \n",
    "                    'title_x', \n",
    "                    'domestic_gross_x',\n",
    "                    'domestic_gross_y',\n",
    "                    'start_year',\n",
    "                    'release_date_x',\n",
    "                    'movie',\n",
    "                    'production_budget']\n",
    "movies.drop(columns_to_drop, axis=1, inplace=True)\n"
   ]
  },
  {
   "attachments": {},
   "cell_type": "markdown",
   "metadata": {},
   "source": [
    "# 2. Linear Regression"
   ]
  },
  {
   "attachments": {},
   "cell_type": "markdown",
   "metadata": {},
   "source": [
    "### In this section we conducted linear regression tests on the movie's budget, vote average, and revenue to see how they are related"
   ]
  },
  {
   "cell_type": "code",
   "execution_count": 115,
   "metadata": {},
   "outputs": [
    {
     "data": {
      "text/html": [
       "<table class=\"simpletable\">\n",
       "<caption>OLS Regression Results</caption>\n",
       "<tr>\n",
       "  <th>Dep. Variable:</th>      <td>vote_average</td>   <th>  R-squared:         </th> <td>   0.014</td>\n",
       "</tr>\n",
       "<tr>\n",
       "  <th>Model:</th>                   <td>OLS</td>       <th>  Adj. R-squared:    </th> <td>   0.013</td>\n",
       "</tr>\n",
       "<tr>\n",
       "  <th>Method:</th>             <td>Least Squares</td>  <th>  F-statistic:       </th> <td>   12.98</td>\n",
       "</tr>\n",
       "<tr>\n",
       "  <th>Date:</th>             <td>Wed, 21 Jun 2023</td> <th>  Prob (F-statistic):</th> <td>0.000332</td>\n",
       "</tr>\n",
       "<tr>\n",
       "  <th>Time:</th>                 <td>10:25:08</td>     <th>  Log-Likelihood:    </th> <td> -1089.4</td>\n",
       "</tr>\n",
       "<tr>\n",
       "  <th>No. Observations:</th>      <td>   936</td>      <th>  AIC:               </th> <td>   2183.</td>\n",
       "</tr>\n",
       "<tr>\n",
       "  <th>Df Residuals:</th>          <td>   934</td>      <th>  BIC:               </th> <td>   2193.</td>\n",
       "</tr>\n",
       "<tr>\n",
       "  <th>Df Model:</th>              <td>     1</td>      <th>                     </th>     <td> </td>   \n",
       "</tr>\n",
       "<tr>\n",
       "  <th>Covariance Type:</th>      <td>nonrobust</td>    <th>                     </th>     <td> </td>   \n",
       "</tr>\n",
       "</table>\n",
       "<table class=\"simpletable\">\n",
       "<tr>\n",
       "     <td></td>       <th>coef</th>     <th>std err</th>      <th>t</th>      <th>P>|t|</th>  <th>[0.025</th>    <th>0.975]</th>  \n",
       "</tr>\n",
       "<tr>\n",
       "  <th>const</th>  <td>    6.3158</td> <td>    0.034</td> <td>  185.362</td> <td> 0.000</td> <td>    6.249</td> <td>    6.383</td>\n",
       "</tr>\n",
       "<tr>\n",
       "  <th>budget</th> <td>  1.55e-09</td> <td>  4.3e-10</td> <td>    3.602</td> <td> 0.000</td> <td> 7.06e-10</td> <td> 2.39e-09</td>\n",
       "</tr>\n",
       "</table>\n",
       "<table class=\"simpletable\">\n",
       "<tr>\n",
       "  <th>Omnibus:</th>       <td> 1.557</td> <th>  Durbin-Watson:     </th> <td>   1.806</td>\n",
       "</tr>\n",
       "<tr>\n",
       "  <th>Prob(Omnibus):</th> <td> 0.459</td> <th>  Jarque-Bera (JB):  </th> <td>   1.629</td>\n",
       "</tr>\n",
       "<tr>\n",
       "  <th>Skew:</th>          <td>-0.092</td> <th>  Prob(JB):          </th> <td>   0.443</td>\n",
       "</tr>\n",
       "<tr>\n",
       "  <th>Kurtosis:</th>      <td> 2.913</td> <th>  Cond. No.          </th> <td>1.06e+08</td>\n",
       "</tr>\n",
       "</table><br/><br/>Notes:<br/>[1] Standard Errors assume that the covariance matrix of the errors is correctly specified.<br/>[2] The condition number is large, 1.06e+08. This might indicate that there are<br/>strong multicollinearity or other numerical problems."
      ],
      "text/plain": [
       "<class 'statsmodels.iolib.summary.Summary'>\n",
       "\"\"\"\n",
       "                            OLS Regression Results                            \n",
       "==============================================================================\n",
       "Dep. Variable:           vote_average   R-squared:                       0.014\n",
       "Model:                            OLS   Adj. R-squared:                  0.013\n",
       "Method:                 Least Squares   F-statistic:                     12.98\n",
       "Date:                Wed, 21 Jun 2023   Prob (F-statistic):           0.000332\n",
       "Time:                        10:25:08   Log-Likelihood:                -1089.4\n",
       "No. Observations:                 936   AIC:                             2183.\n",
       "Df Residuals:                     934   BIC:                             2193.\n",
       "Df Model:                           1                                         \n",
       "Covariance Type:            nonrobust                                         \n",
       "==============================================================================\n",
       "                 coef    std err          t      P>|t|      [0.025      0.975]\n",
       "------------------------------------------------------------------------------\n",
       "const          6.3158      0.034    185.362      0.000       6.249       6.383\n",
       "budget       1.55e-09    4.3e-10      3.602      0.000    7.06e-10    2.39e-09\n",
       "==============================================================================\n",
       "Omnibus:                        1.557   Durbin-Watson:                   1.806\n",
       "Prob(Omnibus):                  0.459   Jarque-Bera (JB):                1.629\n",
       "Skew:                          -0.092   Prob(JB):                        0.443\n",
       "Kurtosis:                       2.913   Cond. No.                     1.06e+08\n",
       "==============================================================================\n",
       "\n",
       "Notes:\n",
       "[1] Standard Errors assume that the covariance matrix of the errors is correctly specified.\n",
       "[2] The condition number is large, 1.06e+08. This might indicate that there are\n",
       "strong multicollinearity or other numerical problems.\n",
       "\"\"\""
      ]
     },
     "execution_count": 115,
     "metadata": {},
     "output_type": "execute_result"
    }
   ],
   "source": [
    "budget = movies['budget']\n",
    "vote_average = movies['vote_average']\n",
    "\n",
    "model = sm.OLS(vote_average, sm.add_constant(budget))\n",
    "results = model.fit()\n",
    "results.summary()"
   ]
  },
  {
   "cell_type": "code",
   "execution_count": 116,
   "metadata": {},
   "outputs": [
    {
     "data": {
      "image/png": "[encoded data removed]",
      "text/plain": [
       "<Figure size 864x576 with 1 Axes>"
      ]
     },
     "metadata": {},
     "output_type": "display_data"
    }
   ],
   "source": [
    "# Plotting the vote_average vs. budget\n",
    "fig, ax=plt.subplots(figsize=(12,8))\n",
    "ax.scatter(budget, vote_average, color='lightblue')\n",
    "ax.set_xlabel('Budget (in hundred millions)')\n",
    "ax.set_ylabel('Vote average')\n",
    "ax.set_title('Relationship Between Budget and TMDB Voter Rating')\n",
    "sm.graphics.abline_plot(model_results=results, ax=ax, linewidth=4);"
   ]
  },
  {
   "cell_type": "code",
   "execution_count": 117,
   "metadata": {},
   "outputs": [
    {
     "data": {
      "text/html": [
       "<table class=\"simpletable\">\n",
       "<caption>OLS Regression Results</caption>\n",
       "<tr>\n",
       "  <th>Dep. Variable:</th>         <td>revenue</td>     <th>  R-squared:         </th> <td>   0.610</td> \n",
       "</tr>\n",
       "<tr>\n",
       "  <th>Model:</th>                   <td>OLS</td>       <th>  Adj. R-squared:    </th> <td>   0.609</td> \n",
       "</tr>\n",
       "<tr>\n",
       "  <th>Method:</th>             <td>Least Squares</td>  <th>  F-statistic:       </th> <td>   1460.</td> \n",
       "</tr>\n",
       "<tr>\n",
       "  <th>Date:</th>             <td>Wed, 21 Jun 2023</td> <th>  Prob (F-statistic):</th> <td>4.08e-193</td>\n",
       "</tr>\n",
       "<tr>\n",
       "  <th>Time:</th>                 <td>10:25:08</td>     <th>  Log-Likelihood:    </th> <td> -19006.</td> \n",
       "</tr>\n",
       "<tr>\n",
       "  <th>No. Observations:</th>      <td>   936</td>      <th>  AIC:               </th> <td>3.802e+04</td>\n",
       "</tr>\n",
       "<tr>\n",
       "  <th>Df Residuals:</th>          <td>   934</td>      <th>  BIC:               </th> <td>3.803e+04</td>\n",
       "</tr>\n",
       "<tr>\n",
       "  <th>Df Model:</th>              <td>     1</td>      <th>                     </th>     <td> </td>    \n",
       "</tr>\n",
       "<tr>\n",
       "  <th>Covariance Type:</th>      <td>nonrobust</td>    <th>                     </th>     <td> </td>    \n",
       "</tr>\n",
       "</table>\n",
       "<table class=\"simpletable\">\n",
       "<tr>\n",
       "     <td></td>       <th>coef</th>     <th>std err</th>      <th>t</th>      <th>P>|t|</th>  <th>[0.025</th>    <th>0.975]</th>  \n",
       "</tr>\n",
       "<tr>\n",
       "  <th>const</th>  <td>-1.547e+06</td> <td> 7.01e+06</td> <td>   -0.221</td> <td> 0.825</td> <td>-1.53e+07</td> <td> 1.22e+07</td>\n",
       "</tr>\n",
       "<tr>\n",
       "  <th>budget</th> <td>    3.3816</td> <td>    0.088</td> <td>   38.212</td> <td> 0.000</td> <td>    3.208</td> <td>    3.555</td>\n",
       "</tr>\n",
       "</table>\n",
       "<table class=\"simpletable\">\n",
       "<tr>\n",
       "  <th>Omnibus:</th>       <td>424.798</td> <th>  Durbin-Watson:     </th> <td>   1.451</td>\n",
       "</tr>\n",
       "<tr>\n",
       "  <th>Prob(Omnibus):</th> <td> 0.000</td>  <th>  Jarque-Bera (JB):  </th> <td>3955.986</td>\n",
       "</tr>\n",
       "<tr>\n",
       "  <th>Skew:</th>          <td> 1.835</td>  <th>  Prob(JB):          </th> <td>    0.00</td>\n",
       "</tr>\n",
       "<tr>\n",
       "  <th>Kurtosis:</th>      <td>12.379</td>  <th>  Cond. No.          </th> <td>1.06e+08</td>\n",
       "</tr>\n",
       "</table><br/><br/>Notes:<br/>[1] Standard Errors assume that the covariance matrix of the errors is correctly specified.<br/>[2] The condition number is large, 1.06e+08. This might indicate that there are<br/>strong multicollinearity or other numerical problems."
      ],
      "text/plain": [
       "<class 'statsmodels.iolib.summary.Summary'>\n",
       "\"\"\"\n",
       "                            OLS Regression Results                            \n",
       "==============================================================================\n",
       "Dep. Variable:                revenue   R-squared:                       0.610\n",
       "Model:                            OLS   Adj. R-squared:                  0.609\n",
       "Method:                 Least Squares   F-statistic:                     1460.\n",
       "Date:                Wed, 21 Jun 2023   Prob (F-statistic):          4.08e-193\n",
       "Time:                        10:25:08   Log-Likelihood:                -19006.\n",
       "No. Observations:                 936   AIC:                         3.802e+04\n",
       "Df Residuals:                     934   BIC:                         3.803e+04\n",
       "Df Model:                           1                                         \n",
       "Covariance Type:            nonrobust                                         \n",
       "==============================================================================\n",
       "                 coef    std err          t      P>|t|      [0.025      0.975]\n",
       "------------------------------------------------------------------------------\n",
       "const      -1.547e+06   7.01e+06     -0.221      0.825   -1.53e+07    1.22e+07\n",
       "budget         3.3816      0.088     38.212      0.000       3.208       3.555\n",
       "==============================================================================\n",
       "Omnibus:                      424.798   Durbin-Watson:                   1.451\n",
       "Prob(Omnibus):                  0.000   Jarque-Bera (JB):             3955.986\n",
       "Skew:                           1.835   Prob(JB):                         0.00\n",
       "Kurtosis:                      12.379   Cond. No.                     1.06e+08\n",
       "==============================================================================\n",
       "\n",
       "Notes:\n",
       "[1] Standard Errors assume that the covariance matrix of the errors is correctly specified.\n",
       "[2] The condition number is large, 1.06e+08. This might indicate that there are\n",
       "strong multicollinearity or other numerical problems.\n",
       "\"\"\""
      ]
     },
     "execution_count": 117,
     "metadata": {},
     "output_type": "execute_result"
    }
   ],
   "source": [
    "budget = movies['budget']\n",
    "revenue = movies['revenue']\n",
    "model=sm.OLS(revenue, sm.add_constant(budget))\n",
    "results=model.fit()\n",
    "results.summary()"
   ]
  },
  {
   "cell_type": "code",
   "execution_count": 118,
   "metadata": {},
   "outputs": [
    {
     "data": {
      "image/png": "[encoded data removed]",
      "text/plain": [
       "<Figure size 864x576 with 1 Axes>"
      ]
     },
     "metadata": {},
     "output_type": "display_data"
    }
   ],
   "source": [
    "fig, ax = plt.subplots(figsize=(12,8))\n",
    "ax.scatter(budget, revenue, color='lightblue')\n",
    "ax.set_xlabel('Budget (in hundred millions)')\n",
    "ax.set_ylabel('Revenue (in billions)')\n",
    "ax.set_title('Relationship between budget and revenue')\n",
    "sm.graphics.abline_plot(model_results=results, ax=ax, linewidth=4);"
   ]
  },
  {
   "cell_type": "code",
   "execution_count": 119,
   "metadata": {},
   "outputs": [
    {
     "data": {
      "image/png": "[encoded data removed]",
      "text/plain": [
       "<Figure size 864x576 with 1 Axes>"
      ]
     },
     "metadata": {},
     "output_type": "display_data"
    }
   ],
   "source": [
    "top_10_studio = movie_info['studio'].value_counts()[:10].index\n",
    "top_10_studio_counts = movie_info['studio'].value_counts()[:10].values\n",
    "\n",
    "fig, ax = plt.subplots(figsize=(12,8))\n",
    "ax.bar(top_10_studio, top_10_studio_counts)\n",
    "ax.set_xticklabels(top_10_studio, rotation=-35, ha='left')\n",
    "ax.set_title('Top 10 Most Common Studios');"
   ]
  },
  {
   "cell_type": "code",
   "execution_count": 120,
   "metadata": {},
   "outputs": [],
   "source": [
    "movies['year'] = movies['release_date_y'].apply(lambda x: x[:4]).astype(int)\n",
    "revenue_by_year = movies.groupby('year')['revenue'].mean()"
   ]
  },
  {
   "cell_type": "code",
   "execution_count": 121,
   "metadata": {},
   "outputs": [
    {
     "data": {
      "text/html": [
       "<table class=\"simpletable\">\n",
       "<caption>OLS Regression Results</caption>\n",
       "<tr>\n",
       "  <th>Dep. Variable:</th>            <td>y</td>        <th>  R-squared:         </th> <td>   0.807</td>\n",
       "</tr>\n",
       "<tr>\n",
       "  <th>Model:</th>                   <td>OLS</td>       <th>  Adj. R-squared:    </th> <td>   0.779</td>\n",
       "</tr>\n",
       "<tr>\n",
       "  <th>Method:</th>             <td>Least Squares</td>  <th>  F-statistic:       </th> <td>   29.18</td>\n",
       "</tr>\n",
       "<tr>\n",
       "  <th>Date:</th>             <td>Wed, 21 Jun 2023</td> <th>  Prob (F-statistic):</th>  <td>0.00101</td>\n",
       "</tr>\n",
       "<tr>\n",
       "  <th>Time:</th>                 <td>10:25:08</td>     <th>  Log-Likelihood:    </th> <td> -161.96</td>\n",
       "</tr>\n",
       "<tr>\n",
       "  <th>No. Observations:</th>      <td>     9</td>      <th>  AIC:               </th> <td>   327.9</td>\n",
       "</tr>\n",
       "<tr>\n",
       "  <th>Df Residuals:</th>          <td>     7</td>      <th>  BIC:               </th> <td>   328.3</td>\n",
       "</tr>\n",
       "<tr>\n",
       "  <th>Df Model:</th>              <td>     1</td>      <th>                     </th>     <td> </td>   \n",
       "</tr>\n",
       "<tr>\n",
       "  <th>Covariance Type:</th>      <td>nonrobust</td>    <th>                     </th>     <td> </td>   \n",
       "</tr>\n",
       "</table>\n",
       "<table class=\"simpletable\">\n",
       "<tr>\n",
       "    <td></td>       <th>coef</th>     <th>std err</th>      <th>t</th>      <th>P>|t|</th>  <th>[0.025</th>    <th>0.975]</th>  \n",
       "</tr>\n",
       "<tr>\n",
       "  <th>const</th> <td>  -2.5e+10</td> <td> 4.66e+09</td> <td>   -5.363</td> <td> 0.001</td> <td> -3.6e+10</td> <td> -1.4e+10</td>\n",
       "</tr>\n",
       "<tr>\n",
       "  <th>x1</th>    <td>  1.25e+07</td> <td> 2.31e+06</td> <td>    5.402</td> <td> 0.001</td> <td> 7.03e+06</td> <td>  1.8e+07</td>\n",
       "</tr>\n",
       "</table>\n",
       "<table class=\"simpletable\">\n",
       "<tr>\n",
       "  <th>Omnibus:</th>       <td> 1.369</td> <th>  Durbin-Watson:     </th> <td>   1.293</td>\n",
       "</tr>\n",
       "<tr>\n",
       "  <th>Prob(Omnibus):</th> <td> 0.504</td> <th>  Jarque-Bera (JB):  </th> <td>   0.928</td>\n",
       "</tr>\n",
       "<tr>\n",
       "  <th>Skew:</th>          <td>-0.555</td> <th>  Prob(JB):          </th> <td>   0.629</td>\n",
       "</tr>\n",
       "<tr>\n",
       "  <th>Kurtosis:</th>      <td> 1.884</td> <th>  Cond. No.          </th> <td>1.57e+06</td>\n",
       "</tr>\n",
       "</table><br/><br/>Notes:<br/>[1] Standard Errors assume that the covariance matrix of the errors is correctly specified.<br/>[2] The condition number is large, 1.57e+06. This might indicate that there are<br/>strong multicollinearity or other numerical problems."
      ],
      "text/plain": [
       "<class 'statsmodels.iolib.summary.Summary'>\n",
       "\"\"\"\n",
       "                            OLS Regression Results                            \n",
       "==============================================================================\n",
       "Dep. Variable:                      y   R-squared:                       0.807\n",
       "Model:                            OLS   Adj. R-squared:                  0.779\n",
       "Method:                 Least Squares   F-statistic:                     29.18\n",
       "Date:                Wed, 21 Jun 2023   Prob (F-statistic):            0.00101\n",
       "Time:                        10:25:08   Log-Likelihood:                -161.96\n",
       "No. Observations:                   9   AIC:                             327.9\n",
       "Df Residuals:                       7   BIC:                             328.3\n",
       "Df Model:                           1                                         \n",
       "Covariance Type:            nonrobust                                         \n",
       "==============================================================================\n",
       "                 coef    std err          t      P>|t|      [0.025      0.975]\n",
       "------------------------------------------------------------------------------\n",
       "const        -2.5e+10   4.66e+09     -5.363      0.001    -3.6e+10    -1.4e+10\n",
       "x1           1.25e+07   2.31e+06      5.402      0.001    7.03e+06     1.8e+07\n",
       "==============================================================================\n",
       "Omnibus:                        1.369   Durbin-Watson:                   1.293\n",
       "Prob(Omnibus):                  0.504   Jarque-Bera (JB):                0.928\n",
       "Skew:                          -0.555   Prob(JB):                        0.629\n",
       "Kurtosis:                       1.884   Cond. No.                     1.57e+06\n",
       "==============================================================================\n",
       "\n",
       "Notes:\n",
       "[1] Standard Errors assume that the covariance matrix of the errors is correctly specified.\n",
       "[2] The condition number is large, 1.57e+06. This might indicate that there are\n",
       "strong multicollinearity or other numerical problems.\n",
       "\"\"\""
      ]
     },
     "execution_count": 121,
     "metadata": {},
     "output_type": "execute_result"
    }
   ],
   "source": [
    "X = revenue_by_year.index\n",
    "y = revenue_by_year.values\n",
    "model = sm.OLS(y, sm.add_constant(X))\n",
    "results = model.fit()\n",
    "results.summary()"
   ]
  },
  {
   "cell_type": "code",
   "execution_count": 122,
   "metadata": {},
   "outputs": [],
   "source": [
    "tmdb_genres={\n",
    "'Action':          28,\n",
    "'Adventure':       12,\n",
    "'Animation':       16,\n",
    "'Comedy':          35,\n",
    "'Crime':           80,\n",
    "'Documentary':     99,\n",
    "'Drama':           18,\n",
    "'Family':          10751,\n",
    "'Fantasy':         14,\n",
    "'History':         36,\n",
    "'Horror':          27,\n",
    "'Music':           10402,\n",
    "'Mystery':        9648,\n",
    "'Romance':         10749,\n",
    "'Science Fiction': 878,\n",
    "'TV Movie':        10770,\n",
    "'Thriller':        53,\n",
    "'War':             10752,\n",
    "'Western':         37}\n",
    "\n",
    "# Reverses the key and values of the tmdb_genres dictionary\n",
    "tmdb_genres_swap = {y:x for x,y in tmdb_genres.items()}\n",
    "\n",
    "# Converts the ids in genre_ids to a list from a string and replaces the id with its corresponding genre\n",
    "movies['genre_ids'] = movies['genre_ids'].apply(lambda x: [tmdb_genres_swap.get(int(id), 'X') for id in x.strip('[]').split(',') if len(id) != 0])\n",
    "\n",
    "# Resetting index and dropping duplicate columns again after removing rows\n",
    "movies.reset_index(inplace=True)\n",
    "movies.drop(['index'], axis=1, inplace=True)"
   ]
  },
  {
   "cell_type": "code",
   "execution_count": 123,
   "metadata": {},
   "outputs": [
    {
     "data": {
      "image/png": "[encoded data removed]",
      "text/plain": [
       "<Figure size 432x288 with 1 Axes>"
      ]
     },
     "metadata": {},
     "output_type": "display_data"
    }
   ],
   "source": [
    "genre_n_revenue = {}\n",
    "\n",
    "\"\"\"\n",
    "Loops through each movie and appends a list of revenues associated with each of the movies' genres\n",
    "The dictionary will result in keys representing the genres and the values being a list of revenues\n",
    "\"\"\"\n",
    "for row in movies.index:\n",
    "    g_ids = movies.iloc[row]['genre_ids']\n",
    "    rev = movies.iloc[row]['revenue']\n",
    "    for g in g_ids:\n",
    "        if g in genre_n_revenue.keys():\n",
    "            genre_n_revenue[g] = np.append(genre_n_revenue[g], rev)\n",
    "        else:\n",
    "            genre_n_revenue[g] = np.array([rev])\n",
    "\n",
    "genre_and_revenue_average = {}\n",
    "\n",
    "# Adds a key (genre) and value (average revenue) to the genre_and_revenue_average dictionary\n",
    "for g in genre_n_revenue.keys():\n",
    "    genre_and_revenue_average[g] = genre_n_revenue[g].mean()\n",
    "\n",
    "fig, ax = plt.subplots()\n",
    "ax.bar(genre_and_revenue_average.keys(), genre_and_revenue_average.values())\n",
    "ax.set_title('Average movie revenue by genre')\n",
    "ax.set_xticklabels(genre_and_revenue_average.keys(), rotation=-35, ha='left');"
   ]
  },
  {
   "cell_type": "code",
   "execution_count": 124,
   "metadata": {},
   "outputs": [
    {
     "data": {
      "text/plain": [
       "F_onewayResult(statistic=31.679829431852554, pvalue=6.60400307221308e-93)"
      ]
     },
     "execution_count": 124,
     "metadata": {},
     "output_type": "execute_result"
    }
   ],
   "source": [
    "# Checking to see if genre has a statistically significant impact on revenue\n",
    "stats.f_oneway(*genre_n_revenue.values())"
   ]
  },
  {
   "attachments": {},
   "cell_type": "markdown",
   "metadata": {},
   "source": [
    "Since the p-value is extremely small and less than 0.05, we conclude that genre does have a statistically significant impact on revenue.\n",
    "\n",
    "We will now replace the genre ids with the actual genre names, and then analyze the ratio of revenue to budget by genre."
   ]
  },
  {
   "cell_type": "code",
   "execution_count": 125,
   "metadata": {},
   "outputs": [],
   "source": [
    "movies['revenue_to_budget'] = movies['revenue'] / movies['budget']"
   ]
  },
  {
   "cell_type": "code",
   "execution_count": 126,
   "metadata": {},
   "outputs": [
    {
     "data": {
      "text/plain": [
       "{'Adventure': 3.468424752629892,\n",
       " 'Action': 3.0854872427131976,\n",
       " 'Fantasy': 3.35252526343265,\n",
       " 'Science Fiction': 3.8479960979184864,\n",
       " 'Crime': 2.622949932820052,\n",
       " 'Drama': 3.640685008464804,\n",
       " 'Thriller': 6.67669342407395,\n",
       " 'Western': 1.7272107179948408,\n",
       " 'Animation': 4.1870257160591775,\n",
       " 'Family': 3.62842342028393,\n",
       " 'Comedy': 3.661166689955443,\n",
       " 'Horror': 14.756335071943699,\n",
       " 'Romance': 4.10012005138923,\n",
       " 'Mystery': 5.4081185248673265,\n",
       " 'War': 2.9368510723476002,\n",
       " 'Music': 4.314112050109162,\n",
       " 'History': 3.048343073997596,\n",
       " 'Documentary': 5.089371101510462}"
      ]
     },
     "execution_count": 126,
     "metadata": {},
     "output_type": "execute_result"
    }
   ],
   "source": [
    "genre_rois = {}\n",
    "\n",
    "for row in movies.index:\n",
    "    g_ids = movies.iloc[row]['genre_ids']\n",
    "    rtb = movies.iloc[row]['revenue_to_budget']\n",
    "    for g in g_ids:\n",
    "        if g in genre_rois.keys():\n",
    "            genre_rois[g] = np.append(genre_rois[g], rtb)\n",
    "        else:\n",
    "            genre_rois[g] = np.array([rtb])\n",
    "\n",
    "genre_rois_average = {}\n",
    "for g in genre_rois.keys():\n",
    "    genre_rois_average[g] = genre_rois[g].mean()\n",
    "\n",
    "genre_rois_average"
   ]
  },
  {
   "attachments": {},
   "cell_type": "markdown",
   "metadata": {},
   "source": [
    "#### Does genre have a statistically significant impact on return on investment?\n",
    "Before we make recommendations on which genres to invest in, we must first determine whether genre is statistically significant in our data when it comes to predicting return on investment."
   ]
  },
  {
   "cell_type": "code",
   "execution_count": 127,
   "metadata": {},
   "outputs": [
    {
     "data": {
      "text/plain": [
       "F_onewayResult(statistic=4.795506286524313, pvalue=3.213041320512049e-10)"
      ]
     },
     "execution_count": 127,
     "metadata": {},
     "output_type": "execute_result"
    }
   ],
   "source": [
    "stats.f_oneway(*genre_rois.values())"
   ]
  },
  {
   "attachments": {},
   "cell_type": "markdown",
   "metadata": {},
   "source": [
    "Since our p-value is less than 0.05, we conclude that there is a statistically significant difference in return on investment by genre. Therefore we will conduct further analysis to see which genres are the best investments."
   ]
  },
  {
   "cell_type": "code",
   "execution_count": 128,
   "metadata": {},
   "outputs": [
    {
     "data": {
      "image/png": "[encoded data removed]",
      "text/plain": [
       "<Figure size 864x576 with 1 Axes>"
      ]
     },
     "metadata": {},
     "output_type": "display_data"
    }
   ],
   "source": [
    "genre_ids = list(genre_rois_average.keys())\n",
    "rois = list(genre_rois_average.values())\n",
    "genres_and_rois = pd.DataFrame(data=rois, index=genre_ids, columns={'Return on Investment'})\n",
    "genres_and_rois.sort_values(by='Return on Investment', ascending=False, inplace=True)\n",
    "\n",
    "fig, ax = plt.subplots(figsize=(12,8))\n",
    "ax.bar(genres_and_rois.index, genres_and_rois['Return on Investment'])\n",
    "ax.set_title('Return on Investment Ratio by Genre');"
   ]
  },
  {
   "attachments": {},
   "cell_type": "markdown",
   "metadata": {},
   "source": [
    "We can see that genre 27 has the highest return on investment, followed by genres 9648 and 53."
   ]
  },
  {
   "attachments": {},
   "cell_type": "markdown",
   "metadata": {},
   "source": [
    "## What about for current movies only? Are the results different?\n",
    "Our investor asked us to look specifically at how movies are currently doing in the box office, so we will filter the results further to movies released after 2017."
   ]
  },
  {
   "cell_type": "code",
   "execution_count": 129,
   "metadata": {},
   "outputs": [
    {
     "data": {
      "image/png": "[encoded data removed]",
      "text/plain": [
       "<Figure size 864x576 with 1 Axes>"
      ]
     },
     "metadata": {},
     "output_type": "display_data"
    }
   ],
   "source": [
    "#repeating the same steps as above, but for new movies only\n",
    "\n",
    "new_movies=movies.loc[movies['year']>2017]\n",
    "new_movies.reset_index(inplace=True)\n",
    "\n",
    "new_genre_rois={}\n",
    "for row in new_movies.index:\n",
    "    g_ids=new_movies.iloc[row]['genre_ids']\n",
    "    rtb=new_movies.iloc[row]['revenue_to_budget']\n",
    "    for g in g_ids:\n",
    "        if g in new_genre_rois.keys():\n",
    "            new_genre_rois[g]=np.append(new_genre_rois[g], rtb)\n",
    "        else:\n",
    "            new_genre_rois[g]=np.array([rtb])\n",
    "\n",
    "new_genre_rois_average={}\n",
    "for g in new_genre_rois.keys():\n",
    "    new_genre_rois_average[g]=new_genre_rois[g].mean()\n",
    "\n",
    "assert(stats.f_oneway(*new_genre_rois.values())[1]<0.05)\n",
    "\n",
    "new_movies_genres_and_rois=pd.DataFrame(index=new_genre_rois_average.keys(), data=new_genre_rois_average.values(), columns={'Return on Investment'})\n",
    "new_movies_genres_and_rois.sort_values(by='Return on Investment', ascending=False, inplace=True)\n",
    "\n",
    "fig, ax=plt.subplots(figsize=(12,8))\n",
    "ax.bar(new_movies_genres_and_rois.index, new_movies_genres_and_rois['Return on Investment'])\n",
    "ax.set_title('Return on Investment Ratio by Genre for movies released after 2017')\n",
    "ax.set_xticklabels(new_movies_genres_and_rois.index, rotation=-35, ha='center');\n"
   ]
  },
  {
   "attachments": {},
   "cell_type": "markdown",
   "metadata": {},
   "source": [
    "Horror still has the highest return on investment, although the gap is not as wide when filtered to new movies only. Music and romance have also done well recently in the box office.\n",
    "\n",
    "The top genres we recommend are Horror, Music, Romance, Thriller, and Mystery."
   ]
  }
 ],
 "metadata": {
  "kernelspec": {
   "display_name": "Python (learn-env)",
   "language": "python",
   "name": "leanr-env"
  },
  "language_info": {
   "codemirror_mode": {
    "name": "ipython",
    "version": 3
   },
   "file_extension": ".py",
   "mimetype": "text/x-python",
   "name": "python",
   "nbconvert_exporter": "python",
   "pygments_lexer": "ipython3",
   "version": "3.8.5"
  },
  "orig_nbformat": 4
 },
 "nbformat": 4,
 "nbformat_minor": 2
}
